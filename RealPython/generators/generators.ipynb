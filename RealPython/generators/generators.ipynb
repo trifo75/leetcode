{
 "cells": [
  {
   "attachments": {},
   "cell_type": "markdown",
   "metadata": {},
   "source": [
    "# Generátorok használata a RealPython leírása mentén\n",
    "\n",
    "Eredeti cikk:  \n",
    "https://realpython.com/introduction-to-python-generators/"
   ]
  },
  {
   "attachments": {},
   "cell_type": "markdown",
   "metadata": {},
   "source": [
    "# egyszerű generátor függvény"
   ]
  },
  {
   "cell_type": "code",
   "execution_count": 4,
   "metadata": {},
   "outputs": [
    {
     "name": "stdout",
     "output_type": "stream",
     "text": [
      "0\n",
      "1\n",
      "2\n",
      "3\n",
      "4\n",
      "5\n"
     ]
    }
   ],
   "source": [
    "\n",
    "\n",
    "# függvényt csinálunk, ami nem return-nal ad vissza értéket, hanem yield-del\n",
    "def infinite_sequence():\n",
    "    num = 0\n",
    "    while True:\n",
    "        yield num\n",
    "        num += 1\n",
    "\n",
    "# a függvény egy \"lazy iterator\" objektumot ad vissza, amin értelmezve van a next() hívás\n",
    "gen = infinite_sequence()\n",
    "\n",
    "# hívogatjuk és működik...\n",
    "print(next(gen))\n",
    "print(next(gen))\n",
    "print(next(gen))\n",
    "print(next(gen))\n",
    "print(next(gen))\n",
    "print(next(gen))\n"
   ]
  },
  {
   "attachments": {},
   "cell_type": "markdown",
   "metadata": {},
   "source": [
    "# Fájlolvasás, sorok számlálása  \n",
    "paraszos módszer"
   ]
  },
  {
   "cell_type": "code",
   "execution_count": 3,
   "metadata": {},
   "outputs": [],
   "source": [
    "# előkészület\n",
    "# import és fájlnév megadása\n",
    "from pathlib import Path\n",
    "data_folder = Path('C:\\\\Users\\\\trifonov\\\\Dropbox\\\\Calibre\\\\Irving Stone\\Michelangelo (879)')\n",
    "infile = data_folder / 'Michelangelo - Irving Stone.txt'\n"
   ]
  },
  {
   "attachments": {},
   "cell_type": "markdown",
   "metadata": {},
   "source": [
    "## simán felolvassuk a fájlt egy függvénnyel"
   ]
  },
  {
   "cell_type": "code",
   "execution_count": 4,
   "metadata": {},
   "outputs": [
    {
     "name": "stdout",
     "output_type": "stream",
     "text": [
      "Row count is 18371\n"
     ]
    }
   ],
   "source": [
    "\n",
    "# felolvassuk a teljes fájlt és visszaadjuk a teljes tartalmat\n",
    "def csv_reader(file_name):\n",
    "    file = open(file_name, encoding='utf-8')\n",
    "\n",
    "    # a beolvasott mindent sorokra tördelünk\n",
    "    result = file.read().split(\"\\n\")\n",
    "\n",
    "    # visszaadjuk \n",
    "    return result\n",
    "\n",
    "\n",
    "# itt adódik át az egész könyv \n",
    "csv_gen = csv_reader(infile)\n",
    "row_count = 0\n",
    "\n",
    "# a visszakapott listát megszámoljuk \n",
    "for row in csv_gen:\n",
    "    row_count += 1\n",
    "\n",
    "print(f\"Row count is {row_count}\")"
   ]
  },
  {
   "attachments": {},
   "cell_type": "markdown",
   "metadata": {},
   "source": [
    "## generator comprehension  használatával  \n",
    "mint a *list comprehension*, csak **[...]** helyett **(...)**"
   ]
  },
  {
   "cell_type": "code",
   "execution_count": 5,
   "metadata": {},
   "outputs": [
    {
     "name": "stdout",
     "output_type": "stream",
     "text": [
      "<Irving Stone – Michelangelo\n",
      "><Regényes életrajz\n",
      "><„Dávid ​​csak egyedül állhat a talpazaton… Ha a véres fej nincs ott, Góliátnál nagyobb ellenségek legyőzésének diadalmas szimbóluma lehet… Az ő Dávidja nemcsak erős harcos, de az emberi szellem, a lélek és értelem gigásza is, nagyot mer az élet minden vonatkozásában…”\n",
      "><„Megvan hozzá az esze, akarata, belső ereje, hogy egy új világot teremtsen és betöltse azt az emberi szellem alkotásaival. Az ő Dávidja Apolló lesz, de több, mint az, Héraklész lesz és Ádám, de sokkal több azoknál – az ember legtökéletesebb megvalósulása lesz, aki egy értelemmel és emberséggel áthatott világban fejti ki a maga erőit…” – És megszületett az utolérhetetlen szépségű, erőt és értelmet sugárzó szobor, hogy Firenze és a reneszánsz szimbólumává válva, századokon át hirdesse egy izgalmas, véres küzdelmekben és hatalmas szellem: tettekben egyaránt bővelkedő kor eszményeinek s egy nagy alkotó teremtő erejének csodálatos találkozását.\n",
      "><Stone hatalmas felkészültséggel, nagylélegzetű, sokrétű reneszánsz korképet festve kíséri végig Michelangelo eseményekben, szenvedésekben és sikerekben gazdag életútját. Szakemberek számára is sokat mondóan, rendkívüli gondossággal követi nyomon a nagy alkotások elkészülésének minden fontos állomását, kitérve a freskófestés, a márványfaragás és a márványbányászás megannyi izgalmas technikai kérdésére.\n",
      "><A legnagyszerűbb azonban Stone regényében az, ahogyan a nagy alkotások szellemi mondanivalójának megszületését, Michelangelónak a rendkívüli intellektuális feszültségű szoboróriások alkotójának, a gondolatok kifejezéséért és az azoknak legmegfelelőbb formai megoldásért vívott harcát eleveníti meg.\n",
      "><Elsősorban ezért lesz izgalmas olvasmány Stone könyve mindenkinek, aki szereti a művészetet és szeretné egyre értőbben csodálni a nagy alkotásokat.\n",
      ">next: \n",
      "next: \n",
      "next: IRVING STONE\n",
      "next: \n",
      "next: \n"
     ]
    }
   ],
   "source": [
    "# itt készül a generator comprehension\n",
    "# mellesleg az open() - ha az encoding megfelelő ÉS text\n",
    "# módban olvasunk, akkor sorokat ad vissza\n",
    "csv_gen = (row for row in open(infile, encoding='utf-8'))\n",
    "\n",
    "for i,line in enumerate(csv_gen):\n",
    "    # kihagyjuk az üres sorokat, a többit kiírjuk\n",
    "    if line != '\\n': print('<{}>'.format(line), end='')\n",
    "    # a huszadikig\n",
    "    if i>20: break\n",
    "\n",
    "# meg még csak úgy, hogy a next() is működik\n",
    "print('next: {}'.format(next(csv_gen)), end='')\n",
    "print('next: {}'.format(next(csv_gen)), end='')\n",
    "print('next: {}'.format(next(csv_gen)), end='')\n",
    "print('next: {}'.format(next(csv_gen)), end='')\n",
    "print('next: {}'.format(next(csv_gen)), end='')\n",
    "\n"
   ]
  },
  {
   "attachments": {},
   "cell_type": "markdown",
   "metadata": {},
   "source": [
    "## a next() függvény\n",
    "tulajdonképpen csak a __next__() metódust hívja.  \n",
    "csv_gen.__next__() ugyanat mint next(csv_gen)\n"
   ]
  },
  {
   "cell_type": "code",
   "execution_count": 34,
   "metadata": {},
   "outputs": [
    {
     "data": {
      "text/plain": [
       "'\\n'"
      ]
     },
     "execution_count": 34,
     "metadata": {},
     "output_type": "execute_result"
    }
   ],
   "source": [
    "csv_gen.__next__()\n"
   ]
  },
  {
   "cell_type": "code",
   "execution_count": 73,
   "metadata": {},
   "outputs": [
    {
     "name": "stdout",
     "output_type": "stream",
     "text": [
      "0\n",
      "1\n",
      "2\n",
      "0\n",
      "1\n",
      "1 2 3 4 5 6 7 8 9 11 22 33 44 55 66 77 88 99 101 111 121 131 141 151 161 171 181 191 202 212 222 232 242 252 262 272 282 292 303 313 323 333 343 353 363 373 383 393 404 414 424 434 444 454 464 474 484 494 505 515 525 535 545 555 565 575 585 595 606 616 626 636 646 656 666 676 686 696 707 717 727 737 747 757 767 777 787 797 808 818 828 838 848 858 868 878 888 898 909 919 929 939 949 959 969 979 989 999 1001 \n"
     ]
    }
   ],
   "source": [
    "\n",
    "\n",
    "def is_palindrome(num):\n",
    "\n",
    "    if num % 10 == 0: return False\n",
    "\n",
    "    temp = num\n",
    "    reversed = 0\n",
    "    while temp != 0:\n",
    "        reversed = (10 * reversed) + (temp % 10)\n",
    "        temp = temp // 10\n",
    "\n",
    "    if num == reversed:\n",
    "        return True\n",
    "    else:\n",
    "        return False\n",
    "\n",
    "# generator function counting endlessly    \n",
    "def endless_counter():\n",
    "    num = 0\n",
    "    while True:\n",
    "        yield num\n",
    "        num += 1\n",
    "\n",
    "\n",
    "# can gram multiple instances from the same generator\n",
    "# gen and gen2 both starts from 0\n",
    "gen = endless_counter()\n",
    "gen2 = endless_counter()\n",
    "print(next(gen))\n",
    "print(next(gen))\n",
    "print(next(gen))\n",
    "print(next(gen2))\n",
    "print(next(gen2))\n",
    "\n",
    "# also we can enumerare on generators\n",
    "for i, num in enumerate(endless_counter()):\n",
    "    if is_palindrome(num): print(num, end=' ')\n",
    "    if i > 1000: print() ; break \n"
   ]
  },
  {
   "attachments": {},
   "cell_type": "markdown",
   "metadata": {},
   "source": [
    "## Ahol \"return\" lehet, ott \"yield\" is\n",
    "\n",
    "Az alábbi példában négy is van. Az ötödik next() pedig StopIteration exception-t dob"
   ]
  },
  {
   "cell_type": "code",
   "execution_count": 81,
   "metadata": {},
   "outputs": [
    {
     "name": "stdout",
     "output_type": "stream",
     "text": [
      "először\n",
      "másodszor\n",
      "harmadszor\n",
      "negyedszer\n"
     ]
    },
    {
     "ename": "StopIteration",
     "evalue": "",
     "output_type": "error",
     "traceback": [
      "\u001b[1;31m---------------------------------------------------------------------------\u001b[0m",
      "\u001b[1;31mStopIteration\u001b[0m                             Traceback (most recent call last)",
      "Cell \u001b[1;32mIn[81], line 21\u001b[0m\n\u001b[0;32m     19\u001b[0m \u001b[39mprint\u001b[39m(\u001b[39mnext\u001b[39m(gen))\n\u001b[0;32m     20\u001b[0m \u001b[39mprint\u001b[39m(\u001b[39mnext\u001b[39m(gen))\n\u001b[1;32m---> 21\u001b[0m \u001b[39mprint\u001b[39m(\u001b[39mnext\u001b[39;49m(gen))\n",
      "\u001b[1;31mStopIteration\u001b[0m: "
     ]
    }
   ],
   "source": [
    "def multi_yield():\n",
    "    out = 'először'\n",
    "    yield out\n",
    "\n",
    "    out = 'másodszor'\n",
    "    yield out\n",
    "\n",
    "    out = 'harmadszor'\n",
    "    yield out\n",
    "\n",
    "    out = 'negyedszer'\n",
    "    yield out\n",
    "\n",
    "\n",
    "gen = multi_yield()\n",
    "\n",
    "print(next(gen))\n",
    "print(next(gen))\n",
    "print(next(gen))\n",
    "print(next(gen))\n",
    "print(next(gen))\n",
    "\n",
    "\n",
    "\n"
   ]
  },
  {
   "attachments": {},
   "cell_type": "markdown",
   "metadata": {},
   "source": [
    "## A send() metódus használata  \n",
    "A generátornak vissza is lehe tküldeni egy értéket, amit velhasználhat a további kiementek generálásához. Ennek érdekében a yield-et *expression*-ként használjuk, vagyis igényt tartunk a kimeneti értékére. Az alábbi pédlában az **inp** változó veszi fel a benemeti értéket, amint a generátor send() metódusával beküldünk. \n",
    "\n",
    "A send() csak akkor használható, ha már legylább egy next() volt rajta, vagyis aktiválva van. Viszont a send() hívása tartalmaz egy implicit next()-et is, szóval érték ebből is jön ki. "
   ]
  },
  {
   "cell_type": "code",
   "execution_count": 166,
   "metadata": {},
   "outputs": [
    {
     "name": "stdout",
     "output_type": "stream",
     "text": [
      "egyik\n",
      "BUMP! \"beküldött érték\" másik\n",
      "egyik\n",
      "egyik\n"
     ]
    }
   ],
   "source": [
    "import random\n",
    "def random_yield():\n",
    "    outlist = [\n",
    "        'egyik',\n",
    "        'másik',\n",
    "        'harmadik',\n",
    "        'negyedik',\n",
    "    ]\n",
    "    inp = None\n",
    "    while True:\n",
    "        out = random.choice(outlist)\n",
    "        if inp != None:\n",
    "            out = 'BUMP! \"{}\" {}'.format(inp,out)\n",
    "        inp = ( yield out )\n",
    "        #print('bejövő: {} '.format(inp))\n",
    "\n",
    "\n",
    "randgen = random_yield()\n",
    "\n",
    "print(next(randgen))\n",
    "# print(next(randgen))\n",
    "# print(next(randgen))\n",
    "print(randgen.send('beküldött érték'))\n",
    "print(next(randgen))\n",
    "print(next(randgen))\n",
    "\n",
    "\n"
   ]
  },
  {
   "attachments": {},
   "cell_type": "markdown",
   "metadata": {},
   "source": [
    "## A throw() metódus\n",
    "\n",
    "A RealPython cikkben szereplő példa a palindrom generátorban használja fel ezt. A send() által beállítható, hogy honnan kezdje keresni a következő értéket. \n",
    "\n",
    "Viszont ez olyat is csinál, hogy amikor úgy dönt, leállítja a generátort. A **throw()** metódust hívva rá lehet kényszeríteni a generátor függvényt, hogy hibát dojon. Itt épp egy **ValueError**-t"
   ]
  },
  {
   "cell_type": "code",
   "execution_count": 174,
   "metadata": {},
   "outputs": [
    {
     "name": "stdout",
     "output_type": "stream",
     "text": [
      "1\n",
      "22\n",
      "111\n",
      "1111\n",
      "10101\n"
     ]
    },
    {
     "ename": "ValueError",
     "evalue": "We don't like large palindromes",
     "output_type": "error",
     "traceback": [
      "\u001b[1;31m---------------------------------------------------------------------------\u001b[0m",
      "\u001b[1;31mValueError\u001b[0m                                Traceback (most recent call last)",
      "Cell \u001b[1;32mIn[174], line 15\u001b[0m\n\u001b[0;32m     13\u001b[0m digits \u001b[39m=\u001b[39m \u001b[39mlen\u001b[39m(\u001b[39mstr\u001b[39m(i))\n\u001b[0;32m     14\u001b[0m \u001b[39mif\u001b[39;00m digits \u001b[39m==\u001b[39m \u001b[39m5\u001b[39m:\n\u001b[1;32m---> 15\u001b[0m     pal_gen\u001b[39m.\u001b[39;49mthrow(\u001b[39mValueError\u001b[39;49;00m(\u001b[39m\"\u001b[39;49m\u001b[39mWe don\u001b[39;49m\u001b[39m'\u001b[39;49m\u001b[39mt like large palindromes\u001b[39;49m\u001b[39m\"\u001b[39;49m))\n\u001b[0;32m     16\u001b[0m     \u001b[39m# pal_gen.close()\u001b[39;00m\n\u001b[0;32m     17\u001b[0m pal_gen\u001b[39m.\u001b[39msend(\u001b[39m10\u001b[39m \u001b[39m*\u001b[39m\u001b[39m*\u001b[39m (digits))\n",
      "Cell \u001b[1;32mIn[174], line 5\u001b[0m, in \u001b[0;36minfinite_palindromes\u001b[1;34m()\u001b[0m\n\u001b[0;32m      3\u001b[0m \u001b[39mwhile\u001b[39;00m \u001b[39mTrue\u001b[39;00m:\n\u001b[0;32m      4\u001b[0m     \u001b[39mif\u001b[39;00m is_palindrome(num):\n\u001b[1;32m----> 5\u001b[0m         i \u001b[39m=\u001b[39m (\u001b[39myield\u001b[39;00m num)\n\u001b[0;32m      6\u001b[0m         \u001b[39mif\u001b[39;00m i \u001b[39mis\u001b[39;00m \u001b[39mnot\u001b[39;00m \u001b[39mNone\u001b[39;00m:\n\u001b[0;32m      7\u001b[0m             num \u001b[39m=\u001b[39m i\n",
      "\u001b[1;31mValueError\u001b[0m: We don't like large palindromes"
     ]
    }
   ],
   "source": [
    "def infinite_palindromes():\n",
    "    num = 0\n",
    "    while True:\n",
    "        if is_palindrome(num):\n",
    "            i = (yield num)\n",
    "            if i is not None:\n",
    "                num = i\n",
    "        num += 1\n",
    "\n",
    "pal_gen = infinite_palindromes()\n",
    "for i in pal_gen:\n",
    "    print(i)\n",
    "    digits = len(str(i))\n",
    "    if digits == 5:\n",
    "        pal_gen.throw(ValueError(\"We don't like large palindromes\"))\n",
    "        # pal_gen.close()\n",
    "    pal_gen.send(10 ** (digits))\n",
    "\n",
    "print('And here is the END') # idáig nem jutunk el\n",
    "\n"
   ]
  },
  {
   "attachments": {},
   "cell_type": "markdown",
   "metadata": {},
   "source": [
    "## A close() metódus\n",
    "\n",
    "Elvileg ezzel lehet szépen lezárni a generátort - rávenni egy StopIteration exception-re, amit a for ciklus pl szépen lekezel. \n",
    "Normál esetben legalábbis - véges iterátoroknál - lekezeli. Itt nem. A kód futása leáll a close()-ra is. **Miért?**"
   ]
  },
  {
   "cell_type": "code",
   "execution_count": 175,
   "metadata": {},
   "outputs": [
    {
     "name": "stdout",
     "output_type": "stream",
     "text": [
      "1\n",
      "22\n",
      "111\n",
      "1111\n",
      "10101\n"
     ]
    },
    {
     "ename": "StopIteration",
     "evalue": "",
     "output_type": "error",
     "traceback": [
      "\u001b[1;31m---------------------------------------------------------------------------\u001b[0m",
      "\u001b[1;31mStopIteration\u001b[0m                             Traceback (most recent call last)",
      "Cell \u001b[1;32mIn[175], line 17\u001b[0m\n\u001b[0;32m     14\u001b[0m     \u001b[39mif\u001b[39;00m digits \u001b[39m==\u001b[39m \u001b[39m5\u001b[39m:\n\u001b[0;32m     15\u001b[0m         \u001b[39m# pal_gen.throw(ValueError(\"We don't like large palindromes\"))\u001b[39;00m\n\u001b[0;32m     16\u001b[0m         pal_gen\u001b[39m.\u001b[39mclose()\n\u001b[1;32m---> 17\u001b[0m     pal_gen\u001b[39m.\u001b[39;49msend(\u001b[39m10\u001b[39;49m \u001b[39m*\u001b[39;49m\u001b[39m*\u001b[39;49m (digits))\n\u001b[0;32m     19\u001b[0m \u001b[39mprint\u001b[39m(\u001b[39m'\u001b[39m\u001b[39mAnd here is the END\u001b[39m\u001b[39m'\u001b[39m) \u001b[39m# idáig nem jutunk el ITT SEM\u001b[39;00m\n",
      "\u001b[1;31mStopIteration\u001b[0m: "
     ]
    }
   ],
   "source": [
    "def infinite_palindromes():\n",
    "    num = 0\n",
    "    while True:\n",
    "        if is_palindrome(num):\n",
    "            i = (yield num)\n",
    "            if i is not None:\n",
    "                num = i\n",
    "        num += 1\n",
    "\n",
    "pal_gen = infinite_palindromes()\n",
    "for i in pal_gen:\n",
    "    print(i)\n",
    "    digits = len(str(i))\n",
    "    if digits == 5:\n",
    "        # pal_gen.throw(ValueError(\"We don't like large palindromes\"))\n",
    "        pal_gen.close()\n",
    "    pal_gen.send(10 ** (digits))\n",
    "\n",
    "print('And here is the END') # idáig nem jutunk el ITT SEM\n",
    "\n"
   ]
  },
  {
   "attachments": {},
   "cell_type": "markdown",
   "metadata": {},
   "source": [
    "## Generátorok összefűzése data-pipeline -ná\n",
    "\n",
    "A terv:\n",
    "* Read every line of the file.\n",
    "* Split each line into a list of values.\n",
    "* Extract the column names.\n",
    "* Use the column names and lists to create a dictionary.\n",
    "* Filter out the rounds you aren’t interested in.\n",
    "* Calculate the total and average values for the rounds you are interested in.\n",
    "\n",
    "Az adatok a techchurch.csv-ben vannak"
   ]
  },
  {
   "cell_type": "code",
   "execution_count": 188,
   "metadata": {},
   "outputs": [
    {
     "name": "stdout",
     "output_type": "stream",
     "text": [
      "Average funding is $7531867.469879518 in 581 companies\n"
     ]
    }
   ],
   "source": [
    "\n",
    "file_name = \"techcrunch.csv\"\n",
    "\n",
    "# egy generator expresion a sorok kiolvasására\n",
    "lines = (line for line in open(file_name))\n",
    "\n",
    "# a kiolvasott sorokat listába bontjuk\n",
    "list_line = (s.rstrip().split(\",\") for s in lines)\n",
    "\n",
    "# felolvassuk az első sort - ebben lesznek a mező nevek\n",
    "cols = next(list_line)\n",
    "\n",
    "# átalakítjuk dictekké a listába tördelt sorokat úgy, hogy a\n",
    "# *cols*-ból vesszük a kulcsértékeket. zip() és aztán dict()\n",
    "company_dicts = (dict(zip(cols,data)) for data in list_line)\n",
    "\n",
    "# ezzel a generátorral a company_dict-ek közül válogatunk feltételnek megfelelően \n",
    "# Mivel ez int-ekké konvertálva adja vissza az értékeket, lehet rajta sum()-ot használni\n",
    "funding = (\n",
    "    int(company_dict[\"raisedAmt\"])\n",
    "    for company_dict in company_dicts\n",
    "    if company_dict[\"round\"] == \"a\"\n",
    ")\n",
    "\n",
    "# Eddig nem történt szinte semmi (a fejléc felolvasásán kívül). \n",
    "# MOST a sum() által végigiterálunk az összes generátoron\n",
    "# mert a sum()-nak egy Iterable-t adunk paraméternek és így azt végigrágja\n",
    "total_series_a = sum(funding)\n",
    "\n",
    "\n",
    "\n",
    "# végül ízlés szerint felhasználjuk az eredményt\n",
    "print(f\"Total series A fundraising: ${total_series_a}\")\n",
    "\n",
    "\n",
    "# eddig a generátorainkat kimerítettük, így ez a rész újrainicializálás nélkül hibát dob\n",
    "# a sum()-os részt kikommentezve viszont működik\n",
    "# a lényeg, hogy ebben az esetben for ciklussal iterálva meg is számoljuk a cégeket,\n",
    "# hogy átlagot lehessen számolni.\n",
    "\n",
    "# sum_a = 0 # ebbe gyűjtjük az összeget\n",
    "# for i,a in enumerate(funding):\n",
    "#     sum_a +=a\n",
    "\n",
    "# i+=1 # mert nullával kezdtük a számolást\n",
    "# print(f\"Average funding is ${sum_a / i} in {i} companies\")\n",
    "\n"
   ]
  }
 ],
 "metadata": {
  "kernelspec": {
   "display_name": "Python 3",
   "language": "python",
   "name": "python3"
  },
  "language_info": {
   "codemirror_mode": {
    "name": "ipython",
    "version": 3
   },
   "file_extension": ".py",
   "mimetype": "text/x-python",
   "name": "python",
   "nbconvert_exporter": "python",
   "pygments_lexer": "ipython3",
   "version": "3.9.8"
  },
  "orig_nbformat": 4,
  "vscode": {
   "interpreter": {
    "hash": "6d7090a0eba9f58071158077b1b9ec0b4e92cc0aab46ed30065211387267cdcd"
   }
  }
 },
 "nbformat": 4,
 "nbformat_minor": 2
}
